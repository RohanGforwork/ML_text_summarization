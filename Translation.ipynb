{
  "nbformat": 4,
  "nbformat_minor": 0,
  "metadata": {
    "colab": {
      "provenance": [],
      "authorship_tag": "ABX9TyPEOTw1L0itphJ6NBy2axWU",
      "include_colab_link": true
    },
    "kernelspec": {
      "name": "python3",
      "display_name": "Python 3"
    },
    "language_info": {
      "name": "python"
    }
  },
  "cells": [
    {
      "cell_type": "markdown",
      "metadata": {
        "id": "view-in-github",
        "colab_type": "text"
      },
      "source": [
        "<a href=\"https://colab.research.google.com/github/RohanGforwork/ML_text_summarization/blob/main/Translation.ipynb\" target=\"_parent\"><img src=\"https://colab.research.google.com/assets/colab-badge.svg\" alt=\"Open In Colab\"/></a>"
      ]
    },
    {
      "cell_type": "code",
      "source": [
        "\n",
        "!pip install googletrans==4.0.0-rc1 better_profanity nltk\n",
        "\n"
      ],
      "metadata": {
        "id": "cq3mPgjhPiGc"
      },
      "execution_count": null,
      "outputs": []
    },
    {
      "cell_type": "markdown",
      "source": [
        "Language translation\n"
      ],
      "metadata": {
        "id": "ybKSmeDxPMF9"
      }
    },
    {
      "cell_type": "code",
      "source": [
        "import nltk\n",
        "from googletrans import Translator\n",
        "from better_profanity import profanity\n",
        "from nltk.corpus import wordnet\n",
        "\n",
        "nltk.download('wordnet')\n",
        "\n",
        "class LanguageTranslator:\n",
        "    def __init__(self):\n",
        "        self.translator = Translator()\n",
        "\n",
        "    def is_slang(self, text):\n",
        "        \"\"\"\n",
        "        Checks if the given text contains slang or informal words.\n",
        "        :param text: The input text.\n",
        "        :return: Boolean (True if slang is detected, False otherwise)\n",
        "        \"\"\"\n",
        "        words = text.split()\n",
        "        for word in words:\n",
        "            if not wordnet.synsets(word):\n",
        "                return True  # If no dictionary meaning, assume slang\n",
        "            if profanity.contains_profanity(word):\n",
        "                return True  # If flagged as profane/slang, return True\n",
        "        return False\n",
        "\n",
        "    def detect_and_translate(self, text):\n",
        "        \"\"\"\n",
        "        Detects the language, translates to English if needed, and checks for slang.\n",
        "        :param text: User input text.\n",
        "        :return: Dictionary with detected language, confidence, translation, and slang detection.\n",
        "        \"\"\"\n",
        "        detected = self.translator.detect(text)\n",
        "\n",
        "        # Handle NoneType confidence score\n",
        "        confidence_score = round(detected.confidence, 2) if detected.confidence else \"Unknown\"\n",
        "\n",
        "        response = {\n",
        "            \"detected_language\": detected.lang,\n",
        "            \"confidence\": confidence_score,\n",
        "            \"original_text\": text,\n",
        "            \"translated_text\": text,\n",
        "            \"contains_slang\": self.is_slang(text)\n",
        "        }\n",
        "\n",
        "        if detected.lang != 'en':\n",
        "            translated = self.translator.translate(text, dest='en')\n",
        "            response[\"translated_text\"] = translated.text\n",
        "\n",
        "        return response\n",
        "\n",
        "# Example usage (for testing only)\n",
        "if __name__ == \"__main__\":\n",
        "    translator = LanguageTranslator()\n",
        "    sample_text = input(\"Enter text: \")\n",
        "    result = translator.detect_and_translate(sample_text)\n",
        "\n",
        "    print(f\"Detected Language: {result['detected_language']} (Confidence: {result['confidence']})\")\n",
        "    print(f\"Original Text: {result['original_text']}\")\n",
        "    print(f\"Translated Text: {result['translated_text']}\")\n",
        "    print(f\"Contains Slang: {result['contains_slang']}\")\n"
      ],
      "metadata": {
        "colab": {
          "base_uri": "https://localhost:8080/"
        },
        "id": "kQwChuAcbnJX",
        "outputId": "fb23845d-b2a9-4472-976b-342586520caf"
      },
      "execution_count": 5,
      "outputs": [
        {
          "output_type": "stream",
          "name": "stderr",
          "text": [
            "[nltk_data] Downloading package wordnet to /root/nltk_data...\n",
            "[nltk_data]   Package wordnet is already up-to-date!\n"
          ]
        },
        {
          "output_type": "stream",
          "name": "stdout",
          "text": [
            "Enter text: hegiddira!\n",
            "Detected Language: kn (Confidence: Unknown)\n",
            "Original Text: hegiddira!\n",
            "Translated Text: How are you!\n",
            "Contains Slang: True\n"
          ]
        }
      ]
    }
  ]
}