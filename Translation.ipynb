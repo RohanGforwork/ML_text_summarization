{
  "nbformat": 4,
  "nbformat_minor": 0,
  "metadata": {
    "colab": {
      "provenance": [],
      "authorship_tag": "ABX9TyNPXwVznyFPbEqwBV66VVQl",
      "include_colab_link": true
    },
    "kernelspec": {
      "name": "python3",
      "display_name": "Python 3"
    },
    "language_info": {
      "name": "python"
    }
  },
  "cells": [
    {
      "cell_type": "markdown",
      "metadata": {
        "id": "view-in-github",
        "colab_type": "text"
      },
      "source": [
        "<a href=\"https://colab.research.google.com/github/RohanGforwork/ML_text_summarization/blob/main/Translation.ipynb\" target=\"_parent\"><img src=\"https://colab.research.google.com/assets/colab-badge.svg\" alt=\"Open In Colab\"/></a>"
      ]
    },
    {
      "cell_type": "code",
      "source": [
        "\n",
        "!pip install googletrans==4.0.0-rc1 better_profanity nltk\n",
        "!pip install wordfilter\n",
        "\n"
      ],
      "metadata": {
        "id": "cq3mPgjhPiGc"
      },
      "execution_count": null,
      "outputs": []
    },
    {
      "cell_type": "markdown",
      "source": [
        "Language translation\n"
      ],
      "metadata": {
        "id": "ybKSmeDxPMF9"
      }
    },
    {
      "cell_type": "code",
      "source": [
        "import nltk\n",
        "from googletrans import Translator\n",
        "from better_profanity import profanity\n",
        "from wordfilter import Wordfilter\n",
        "from nltk.corpus import wordnet\n",
        "\n",
        "# Download required NLTK dataset\n",
        "nltk.download('wordnet')\n",
        "\n",
        "# Initialize word filter (for multiple languages)\n",
        "word_filter = Wordfilter()\n",
        "\n",
        "# Extend profanity filter with Indian slang\n",
        "CUSTOM_PROFANITY = [\n",
        "    \"chutiya\", \"bhosdike\", \"gaandu\", \"madarchod\", \"behnchod\",\n",
        "    \"harami\", \"randi\", \"lund\", \"chodu\", \"kamina\", \"kutti\"\n",
        "]\n",
        "profanity.add_censor_words(CUSTOM_PROFANITY)\n",
        "\n",
        "class LanguageTranslator:\n",
        "    def __init__(self):\n",
        "        self.translator = Translator()\n",
        "\n",
        "    def is_slang_or_profanity(self, text):\n",
        "        \"\"\"\n",
        "        Detects slang or profanity in any language.\n",
        "        :param text: Input text.\n",
        "        :return: Boolean (True if slang/profanity detected, False otherwise)\n",
        "        \"\"\"\n",
        "        words = text.split()\n",
        "        for word in words:\n",
        "            if not wordnet.synsets(word):\n",
        "                return True  # If no dictionary meaning, assume slang\n",
        "            if profanity.contains_profanity(word):\n",
        "                return True  # If flagged as profane, return True\n",
        "            if word_filter.blacklisted(word):\n",
        "                return True  # If word is blacklisted, return True\n",
        "        return False\n",
        "\n",
        "    def detect_and_translate(self, text):\n",
        "        \"\"\"\n",
        "        Detects language, translates to English, and flags slang/profanity.\n",
        "        :param text: User input.\n",
        "        :return: Dictionary with detected language, confidence, translation, and slang detection.\n",
        "        \"\"\"\n",
        "        detected = self.translator.detect(text)\n",
        "\n",
        "        # Handle NoneType confidence score\n",
        "        confidence_score = round(detected.confidence, 2) if detected.confidence else \"Unknown\"\n",
        "\n",
        "        translated_text = text  # Default to original text\n",
        "\n",
        "        if detected.lang != 'en':\n",
        "            translated = self.translator.translate(text, dest='en')\n",
        "            translated_text = translated.text  # Standard translation\n",
        "\n",
        "        response = {\n",
        "            \"detected_language\": detected.lang,\n",
        "            \"confidence\": confidence_score,\n",
        "            \"original_text\": text,\n",
        "            \"translated_text\": translated_text,\n",
        "            \"contains_slang_or_profanity\": self.is_slang_or_profanity(text)\n",
        "        }\n",
        "\n",
        "        return response\n",
        "\n",
        "    def process_for_summarizer(self, text):\n",
        "        \"\"\"\n",
        "        Translates text to English before sending it to the summarizer.\n",
        "        :param text: Input text.\n",
        "        :return: Translated text (ready for summarization).\n",
        "        \"\"\"\n",
        "        result = self.detect_and_translate(text)\n",
        "        print(f\"Processed Text for Summarization: {result['translated_text']}\")\n",
        "        return result['translated_text']  # Return translated text only\n",
        "\n",
        "# Example usage (for testing)\n",
        "if __name__ == \"__main__\":\n",
        "    translator = LanguageTranslator()\n",
        "    sample_text = input(\"Enter text: \")\n",
        "    translated_text = translator.process_for_summarizer(sample_text)\n",
        "    print(f\"Final Output (For Summarization): {translated_text}\")\n"
      ],
      "metadata": {
        "colab": {
          "base_uri": "https://localhost:8080/"
        },
        "id": "kQwChuAcbnJX",
        "outputId": "29b24b09-7f78-43a3-980c-4edefee99f29"
      },
      "execution_count": 11,
      "outputs": [
        {
          "output_type": "stream",
          "name": "stderr",
          "text": [
            "[nltk_data] Downloading package wordnet to /root/nltk_data...\n",
            "[nltk_data]   Package wordnet is already up-to-date!\n"
          ]
        },
        {
          "output_type": "stream",
          "name": "stdout",
          "text": [
            "Enter text: \"madarchod kya kar raha hai\n",
            "Processed Text for Summarization: \"What is Madarachod doing\n",
            "Final Output (For Summarization): \"What is Madarachod doing\n"
          ]
        }
      ]
    },
    {
      "cell_type": "code",
      "source": [
        "\"\"\"\n",
        "Integration part for front end\n",
        "\n",
        "\n",
        "\n",
        "from translator import LanguageTranslator\n",
        "\n",
        "translator = LanguageTranslator()\n",
        "\n",
        "user_message = \"Bruh, this party was dope!\"\n",
        "translation_result = translator.detect_and_translate(user_message)\n",
        "\n",
        "print(f\"Detected: {translation_result['detected_language']} (Confidence: {translation_result['confidence'] * 100}%)\")\n",
        "print(f\"Translated: {translation_result['translated_text']}\")\n",
        "print(f\"Slang Detected? {translation_result['contains_slang']}\")\n",
        "\"\"\"\n"
      ],
      "metadata": {
        "id": "uQqRXmZvKWGS"
      },
      "execution_count": null,
      "outputs": []
    },
    {
      "cell_type": "code",
      "source": [],
      "metadata": {
        "id": "tuvTMXMZKasv"
      },
      "execution_count": null,
      "outputs": []
    }
  ]
}