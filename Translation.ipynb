{
  "nbformat": 4,
  "nbformat_minor": 0,
  "metadata": {
    "colab": {
      "provenance": [],
      "authorship_tag": "ABX9TyPA22P0sJbGvNmxS/FQTqKF",
      "include_colab_link": true
    },
    "kernelspec": {
      "name": "python3",
      "display_name": "Python 3"
    },
    "language_info": {
      "name": "python"
    }
  },
  "cells": [
    {
      "cell_type": "markdown",
      "metadata": {
        "id": "view-in-github",
        "colab_type": "text"
      },
      "source": [
        "<a href=\"https://colab.research.google.com/github/RohanGforwork/ML_text_summarization/blob/main/Translation.ipynb\" target=\"_parent\"><img src=\"https://colab.research.google.com/assets/colab-badge.svg\" alt=\"Open In Colab\"/></a>"
      ]
    },
    {
      "cell_type": "code",
      "source": [
        "!pip uninstall googletrans\n",
        "!pip install googletrans==4.0.0-rc1\n"
      ],
      "metadata": {
        "id": "cq3mPgjhPiGc"
      },
      "execution_count": null,
      "outputs": []
    },
    {
      "cell_type": "markdown",
      "source": [
        "Language translation\n"
      ],
      "metadata": {
        "id": "ybKSmeDxPMF9"
      }
    },
    {
      "cell_type": "code",
      "source": [
        "from googletrans import Translator\n",
        "\n",
        "\n",
        "\n",
        "\n",
        "\"\"\" Make sure to call the function when integrating in the chatbot framework . Its modular so chan be used anywhere . Further changes will be made soon \"\"\"\n",
        "\n",
        "\n",
        "\n",
        "class LanguageTranslator:\n",
        "    def __init__(self):\n",
        "        self.translator = Translator()\n",
        "\n",
        "    def detect_and_translate(self, text):\n",
        "        \"\"\"\n",
        "        Detects the language of the given text and translates it to English if necessary.\n",
        "\n",
        "        :param text: The input text from the chatbot.\n",
        "        :return: A dictionary with detected language, confidence, and translated text.\n",
        "        \"\"\"\n",
        "        detected = self.translator.detect(text)\n",
        "        response = {\n",
        "            \"detected_language\": detected.lang,\n",
        "            \"confidence\": detected.confidence,\n",
        "            \"translated_text\": text  # Default to original text\n",
        "        }\n",
        "\n",
        "        if detected.lang != 'en':\n",
        "            translated = self.translator.translate(text, dest='en')\n",
        "            response[\"translated_text\"] = translated.text\n",
        "\n",
        "        return response\n",
        "\n",
        "# Example usage\n",
        "if __name__ == \"__main__\":\n",
        "    translator = LanguageTranslator()\n",
        "    sample_text = input(\"Enter text: \")\n",
        "    result = translator.detect_and_translate(sample_text)\n",
        "    print(f\"Detected Language: {result['detected_language']} (Confidence: {result['confidence']})\")\n",
        "    print(f\"Translated Text: {result['translated_text']}\")\n"
      ],
      "metadata": {
        "colab": {
          "base_uri": "https://localhost:8080/"
        },
        "id": "kQwChuAcbnJX",
        "outputId": "227ed872-d004-416e-f73b-dede0bc637f0"
      },
      "execution_count": 4,
      "outputs": [
        {
          "output_type": "stream",
          "name": "stdout",
          "text": [
            "Enter text: \"La technologie évolue rapidement et change la façon dont nous communiquons, travaillons et apprenons. L'intelligence artificielle joue un rôle crucial dans ce progrès, facilitant l'automatisation des tâches complexes et améliorant l'efficacité. De nombreuses entreprises adoptent ces innovations pour optimiser leurs opérations et offrir une meilleure expérience aux utilisateurs. Cependant, il est essentiel de garantir une utilisation éthique et responsable de ces outils avancés. L'éducation et la formation sont également importantes pour préparer les individus aux nouvelles exigences du marché du travail. Ainsi, l'intégration intelligente de la technologie dans notre société ouvre la voie à un avenir prometteur.\"\n",
            "Detected Language: fr (Confidence: None)\n",
            "Translated Text: \"Technology evolves quickly and changes the way we communicate, work and learn. Artificial intelligence plays a crucial role in this progress, facilitating the automation of complex tasks and improving efficiency. Many companies adopt these innovations to optimizetheir operations and offer better experience to users.Prepare individuals for new labor market requirements.\n"
          ]
        }
      ]
    }
  ]
}